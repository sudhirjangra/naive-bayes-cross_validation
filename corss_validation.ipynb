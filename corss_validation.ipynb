{
 "cells": [
  {
   "cell_type": "code",
   "execution_count": 2,
   "id": "98eb892a-8c44-4d39-be79-3ab64f2d782c",
   "metadata": {},
   "outputs": [],
   "source": [
    "from sklearn.model_selection import train_test_split\n",
    "from sklearn.linear_model import LinearRegression\n",
    "from sklearn.metrics import mean_squared_error, r2_score\n",
    "import numpy as np\n",
    "import pandas as pd"
   ]
  },
  {
   "cell_type": "code",
   "execution_count": 4,
   "id": "f9d40098-6818-45b0-b5fc-2007a2e6182b",
   "metadata": {},
   "outputs": [],
   "source": [
    "df = pd.read_csv('https://raw.githubusercontent.com/selva86/datasets/master/BostonHousing.csv')"
   ]
  },
  {
   "cell_type": "code",
   "execution_count": 5,
   "id": "8964dc66-b352-4042-b414-0d2eb0ea9412",
   "metadata": {},
   "outputs": [
    {
     "data": {
      "text/html": [
       "<div>\n",
       "<style scoped>\n",
       "    .dataframe tbody tr th:only-of-type {\n",
       "        vertical-align: middle;\n",
       "    }\n",
       "\n",
       "    .dataframe tbody tr th {\n",
       "        vertical-align: top;\n",
       "    }\n",
       "\n",
       "    .dataframe thead th {\n",
       "        text-align: right;\n",
       "    }\n",
       "</style>\n",
       "<table border=\"1\" class=\"dataframe\">\n",
       "  <thead>\n",
       "    <tr style=\"text-align: right;\">\n",
       "      <th></th>\n",
       "      <th>crim</th>\n",
       "      <th>zn</th>\n",
       "      <th>indus</th>\n",
       "      <th>chas</th>\n",
       "      <th>nox</th>\n",
       "      <th>rm</th>\n",
       "      <th>age</th>\n",
       "      <th>dis</th>\n",
       "      <th>rad</th>\n",
       "      <th>tax</th>\n",
       "      <th>ptratio</th>\n",
       "      <th>b</th>\n",
       "      <th>lstat</th>\n",
       "      <th>medv</th>\n",
       "    </tr>\n",
       "  </thead>\n",
       "  <tbody>\n",
       "    <tr>\n",
       "      <th>264</th>\n",
       "      <td>0.55007</td>\n",
       "      <td>20.0</td>\n",
       "      <td>3.97</td>\n",
       "      <td>0</td>\n",
       "      <td>0.647</td>\n",
       "      <td>7.206</td>\n",
       "      <td>91.6</td>\n",
       "      <td>1.9301</td>\n",
       "      <td>5</td>\n",
       "      <td>264</td>\n",
       "      <td>13.0</td>\n",
       "      <td>387.89</td>\n",
       "      <td>8.10</td>\n",
       "      <td>36.5</td>\n",
       "    </tr>\n",
       "    <tr>\n",
       "      <th>245</th>\n",
       "      <td>0.19133</td>\n",
       "      <td>22.0</td>\n",
       "      <td>5.86</td>\n",
       "      <td>0</td>\n",
       "      <td>0.431</td>\n",
       "      <td>5.605</td>\n",
       "      <td>70.2</td>\n",
       "      <td>7.9549</td>\n",
       "      <td>7</td>\n",
       "      <td>330</td>\n",
       "      <td>19.1</td>\n",
       "      <td>389.13</td>\n",
       "      <td>18.46</td>\n",
       "      <td>18.5</td>\n",
       "    </tr>\n",
       "    <tr>\n",
       "      <th>25</th>\n",
       "      <td>0.84054</td>\n",
       "      <td>0.0</td>\n",
       "      <td>8.14</td>\n",
       "      <td>0</td>\n",
       "      <td>0.538</td>\n",
       "      <td>5.599</td>\n",
       "      <td>85.7</td>\n",
       "      <td>4.4546</td>\n",
       "      <td>4</td>\n",
       "      <td>307</td>\n",
       "      <td>21.0</td>\n",
       "      <td>303.42</td>\n",
       "      <td>16.51</td>\n",
       "      <td>13.9</td>\n",
       "    </tr>\n",
       "    <tr>\n",
       "      <th>30</th>\n",
       "      <td>1.13081</td>\n",
       "      <td>0.0</td>\n",
       "      <td>8.14</td>\n",
       "      <td>0</td>\n",
       "      <td>0.538</td>\n",
       "      <td>5.713</td>\n",
       "      <td>94.1</td>\n",
       "      <td>4.2330</td>\n",
       "      <td>4</td>\n",
       "      <td>307</td>\n",
       "      <td>21.0</td>\n",
       "      <td>360.17</td>\n",
       "      <td>22.60</td>\n",
       "      <td>12.7</td>\n",
       "    </tr>\n",
       "  </tbody>\n",
       "</table>\n",
       "</div>"
      ],
      "text/plain": [
       "        crim    zn  indus  chas    nox     rm   age     dis  rad  tax  \\\n",
       "264  0.55007  20.0   3.97     0  0.647  7.206  91.6  1.9301    5  264   \n",
       "245  0.19133  22.0   5.86     0  0.431  5.605  70.2  7.9549    7  330   \n",
       "25   0.84054   0.0   8.14     0  0.538  5.599  85.7  4.4546    4  307   \n",
       "30   1.13081   0.0   8.14     0  0.538  5.713  94.1  4.2330    4  307   \n",
       "\n",
       "     ptratio       b  lstat  medv  \n",
       "264     13.0  387.89   8.10  36.5  \n",
       "245     19.1  389.13  18.46  18.5  \n",
       "25      21.0  303.42  16.51  13.9  \n",
       "30      21.0  360.17  22.60  12.7  "
      ]
     },
     "execution_count": 5,
     "metadata": {},
     "output_type": "execute_result"
    }
   ],
   "source": [
    "df.sample(4)"
   ]
  },
  {
   "cell_type": "code",
   "execution_count": 6,
   "id": "d9d0b485-4e7a-4185-87eb-153fc079ea2d",
   "metadata": {},
   "outputs": [],
   "source": [
    "# CRIM per capita crime rate by town\n",
    "# zN proportion of residential land zoned for lots over 25,000 sq.ft.\n",
    "# INDUS proportion of non-retail business acres per town\n",
    "# CHAS Charles River dummy variable (= 1 if tract bounds river; 0 otherwise)\n",
    "# NOX nitric oxides concentration (parts per 10 million)\n",
    "# RM average number of rooms per dwelling\n",
    "# AGE proportion of owner-occupied units built prior to 1940\n",
    "# DIS weighted distances to five Boston employment centres\n",
    "# RAD index of accessibility to radial highways\n",
    "# TAX full-value property-tax rate per 10,000usd\n",
    "# PTRATIO pupil-teacher ratio by town\n",
    "# B 1000(Bk - 0.63)^2 where Bk is the proportion of blacks by town\n",
    "# LSTAT % lower status of the population\n",
    "# medv=Price"
   ]
  },
  {
   "cell_type": "code",
   "execution_count": 8,
   "id": "cc4550a2-6f5d-49ca-8ea0-5c44b0dcd6d7",
   "metadata": {},
   "outputs": [],
   "source": [
    "x = df.iloc[:,0:-1]\n",
    "y = df.iloc[:,-1]"
   ]
  },
  {
   "cell_type": "code",
   "execution_count": 9,
   "id": "ab8bf9d6-d2e9-4cc5-9781-095fb6a558a8",
   "metadata": {},
   "outputs": [],
   "source": [
    "xtrain, xtest, ytrain, ytest = train_test_split(x,y, test_size=0.2, random_state=42)"
   ]
  },
  {
   "cell_type": "code",
   "execution_count": 10,
   "id": "7a095307-d73a-4de5-8145-c37c0993448d",
   "metadata": {},
   "outputs": [],
   "source": [
    "model = LinearRegression()\n",
    "model.fit(xtrain, ytrain)\n",
    "y_pred = model.predict(xtest)"
   ]
  },
  {
   "cell_type": "code",
   "execution_count": 11,
   "id": "ffb2e5a6-0b8b-4772-bacf-653ee63d6942",
   "metadata": {},
   "outputs": [
    {
     "data": {
      "text/plain": [
       "0.6687594935356289"
      ]
     },
     "execution_count": 11,
     "metadata": {},
     "output_type": "execute_result"
    }
   ],
   "source": [
    "r2_score(ytest, y_pred)"
   ]
  },
  {
   "cell_type": "code",
   "execution_count": 13,
   "id": "1cfa7fa3-0c40-495c-8bc8-d15fbb317a1e",
   "metadata": {},
   "outputs": [],
   "source": [
    "# Leave One Out Cross Validation 1:16:00"
   ]
  },
  {
   "cell_type": "code",
   "execution_count": null,
   "id": "f8295c03-f384-4ea8-be5b-100b0dbc927b",
   "metadata": {},
   "outputs": [],
   "source": []
  }
 ],
 "metadata": {
  "kernelspec": {
   "display_name": "Python 3 (ipykernel)",
   "language": "python",
   "name": "python3"
  },
  "language_info": {
   "codemirror_mode": {
    "name": "ipython",
    "version": 3
   },
   "file_extension": ".py",
   "mimetype": "text/x-python",
   "name": "python",
   "nbconvert_exporter": "python",
   "pygments_lexer": "ipython3",
   "version": "3.10.18"
  }
 },
 "nbformat": 4,
 "nbformat_minor": 5
}
